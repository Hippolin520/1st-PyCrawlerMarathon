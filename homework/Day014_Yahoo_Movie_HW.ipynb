{
 "cells": [
  {
   "cell_type": "markdown",
   "metadata": {},
   "source": [
    "# YAHOO電影爬蟲練習\n",
    "## 練習爬取電影放映資訊。必須逐步獲取電影的代號、放映地區、放映日期後，再送出查詢給伺服器。"
   ]
  },
  {
   "cell_type": "code",
   "execution_count": 1,
   "metadata": {},
   "outputs": [],
   "source": [
    "import requests\n",
    "import re\n",
    "from bs4 import BeautifulSoup"
   ]
  },
  {
   "cell_type": "markdown",
   "metadata": {},
   "source": [
    "### 先搜尋全部的電影代號(ID)資訊"
   ]
  },
  {
   "cell_type": "code",
   "execution_count": 2,
   "metadata": {
    "scrolled": true
   },
   "outputs": [
    {
     "name": "stdout",
     "output_type": "stream",
     "text": [
      "ID: 10459, Movie: 鬼魅之家\n",
      "ID: 10448, Movie: 熱帶雨\n",
      "ID: 10439, Movie: 吸血黏土\n",
      "ID: 10411, Movie: 只想受到你的歡迎\n",
      "ID: 10395, Movie: 大整形家\n",
      "ID: 10346, Movie: 王牌辯士\n",
      "ID: 10417, Movie: 紅鞋公主與七矮人\n",
      "ID: 10398, Movie: 黑水風暴\n",
      "ID: 10189, Movie: 1917\n",
      "ID: 10453, Movie: 我們的7日戰爭\n",
      "ID: 10449, Movie: 肥龍過江\n",
      "ID: 10446, Movie: 岳父受死吧\n",
      "ID: 10423, Movie: 殺手撿到槍\n",
      "ID: 10407, Movie: 你的情歌\n",
      "ID: 10317, Movie: 紳士追殺令\n",
      "ID: 10316, Movie: 杜立德\n",
      "ID: 10123, Movie: 喜從天降\n",
      "ID: 10230, Movie: 深海終劫站\n",
      "ID: 10202, Movie: 她們\n",
      "ID: 9008, Movie: 變身特務\n",
      "ID: 10451, Movie: 然後我們跳了舞\n",
      "ID: 10429, Movie: 巧虎電影：英雄遊樂園\n",
      "ID: 10428, Movie: 在黑暗中漫舞：20週年數位修復版\n",
      "ID: 10414, Movie: 哥哥戀愛了，我怎麼辦！？\n",
      "ID: 10404, Movie: 青春催落去\n",
      "ID: 10243, Movie: 不完美的正義\n",
      "ID: 10242, Movie: 絕地戰警FOR LIFE\n",
      "ID: 10444, Movie: 惡靈20\n",
      "ID: 10320, Movie: 重磅腥聞\n",
      "ID: 10362, Movie: 真愛裁會贏\n",
      "ID: 10283, Movie: 兔嘲男孩\n",
      "ID: 10425, Movie: 海上鋼琴師4K數位修復\n",
      "ID: 10390, Movie: 倒數計死\n",
      "ID: 10124, Movie: 霹靂嬌娃\n",
      "ID: 10354, Movie: 白頭山：半島浩劫\n",
      "ID: 10112, Movie: 茱蒂\n",
      "ID: 10069, Movie: 燃燒女子的畫像\n",
      "ID: 9890, Movie: 葉問4：完結篇\n",
      "ID: 10225, Movie: STAR WARS : 天行者的崛起\n",
      "ID: 10357, Movie: 黑熊來了\n",
      "ID: 10364, Movie: 特約經紀公司\n",
      "ID: 10134, Movie: 野蠻遊戲：全面晉級\n",
      "ID: 10224, Movie: 布魯克林孤兒\n",
      "ID: 10044, Movie: 暴走曼哈頓\n",
      "ID: 10097, Movie: 賽道狂人\n",
      "ID: 9597, Movie: 冰雪奇緣2\n",
      "ID: 10281, Movie: 萬萬沒想到\n",
      "ID: 10164, Movie: 救火奶爸\n",
      "ID: 10130, Movie: 決戰中途島\n",
      "ID: 10098, Movie: 安眠醫生\n",
      "ID: 10067, Movie: 魔鬼終結者：黑暗宿命\n",
      "ID: 9992, Movie: 阿達一族\n",
      "ID: 10017, Movie: 雙子殺手\n",
      "ID: 10262, Movie: 黑魔女2\n",
      "ID: 10211, Movie: 仙戒奇緣\n",
      "ID: 10155, Movie: 無間行動\n",
      "ID: 7772, Movie: 囧媽的極地任務\n",
      "ID: 10109, Movie: 返校\n",
      "ID: 10091, Movie: 天氣之子\n",
      "ID: 10162, Movie: 最乖巧的殺人犯\n",
      "ID: 9884, Movie: 從前，有個好萊塢\n",
      "ID: 9116, Movie: 獅子王\n",
      "ID: 10020, Movie: 寄生上流\n",
      "ID: 9924, Movie: 玩具總動員4\n",
      "ID: 9898, Movie: 你的臉＋光\n",
      "ID: 9405, Movie: 毀滅者\n",
      "ID: 9134, Movie: 庫爾斯克號：深海救援\n",
      "ID: 9589, Movie: 厄夜追緝令\n",
      "ID: 9538, Movie: 苦兒流浪記\n",
      "ID: 9394, Movie: 活個精彩\n",
      "ID: 9578, Movie: 限時好友\n",
      "ID: 9568, Movie: 祝你忌日快樂\n",
      "ID: 8553, Movie: 艾莉塔：戰鬥天使\n",
      "ID: 8350, Movie: 馴龍高手3\n",
      "ID: 9150, Movie: 幸福綠皮書\n",
      "ID: 4887, Movie: 一首搖滾上月球\n",
      "ID: 3026, Movie: 錢不夠用2\n"
     ]
    }
   ],
   "source": [
    "# 查看目前上映那些電影，並擷取出其ID資訊\n",
    "url = 'https://movies.yahoo.com.tw/'\n",
    "resp = requests.get(url)\n",
    "resp.encoding = 'utf-8'\n",
    "\n",
    "soup = BeautifulSoup(resp.text, 'lxml')\n",
    "html = soup.find(\"select\", attrs={'name':'movie_id'})\n",
    "movie_item = html.find_all(\"option\", attrs={'data-name':re.compile('.*')})\n",
    "\n",
    "for p in movie_item:\n",
    "    print(\"ID: %s, Movie: %s\" % (p[\"value\"], p[\"data-name\"]))"
   ]
  },
  {
   "cell_type": "markdown",
   "metadata": {},
   "source": [
    "### 指定你有興趣的電影其ID，然後查詢其放映地區資訊。"
   ]
  },
  {
   "cell_type": "code",
   "execution_count": 3,
   "metadata": {},
   "outputs": [],
   "source": [
    "# 參考前一個步驟中擷取到的ID資訊，並指定ID\n",
    "movie_id = 10155"
   ]
  },
  {
   "cell_type": "code",
   "execution_count": 4,
   "metadata": {},
   "outputs": [
    {
     "name": "stdout",
     "output_type": "stream",
     "text": [
      "ID: 10155, Movie: 無間行動\n"
     ]
    }
   ],
   "source": [
    "for p in movie_item:\n",
    "    if (p[\"value\"] == str(movie_id)):\n",
    "        print(\"ID: %s, Movie: %s\" % (p[\"value\"], p[\"data-name\"]))\n",
    "        break"
   ]
  },
  {
   "cell_type": "code",
   "execution_count": 5,
   "metadata": {},
   "outputs": [
    {
     "name": "stdout",
     "output_type": "stream",
     "text": [
      "放映地區: 台中, 代號(area_id): 2\n"
     ]
    }
   ],
   "source": [
    "url = 'https://movies.yahoo.com.tw/api/v1/areas_by_movie_theater'\n",
    "payload = {'movie_id':str(movie_id)}\n",
    "\n",
    "# 模擬一個header\n",
    "headers = {\n",
    "    'authority': 'movies.yahoo.com.tw',\n",
    "    'method': 'GET',\n",
    "    'path': '/api/v1/areas_by_movie_theater?movie_id=' + str(movie_id),\n",
    "    'scheme': 'https',\n",
    "    'accept': 'application/json, text/javascript, */*; q=0.01',\n",
    "    'accept-encoding': 'gzip, deflate, br',\n",
    "    'accept-language': 'zh-TW,zh;q=0.9,en-US;q=0.8,en;q=0.7,zh-CN;q=0.6',\n",
    "    'cookie': 'rxx=9s3x2fws06.1g16irnc&v=1; _ga=GA1.3.2056742944.1551651301; GUC=AQEBAQFczFpdm0IfmwSB&s=AQAAACoo4N5D&g=XMsVBw; BX=4hkdk1decm57t&b=3&s=mr; _ga=GA1.4.2056742944.1551651301; nexagesuid=82843256dd234e8e91aa73f2062f8218; browsed_movie=eyJpdiI6IlJXWWtiSWJaZlNGK2MxQnhscnVUYWc9PSIsInZhbHVlIjoiMXRhMmVHRXRIeUNjc1RBWDJzdGYwbnlIQURmWGsrcjJSMzhkbkcraDNJVUNIZEZsbzU3amlFcVZ1NzlmazJrTGpoMjVrbHk1YmpoRENXaHZTOUw1TmI2ZTZVWHdOejZQZm16RmVuMWlHTTJLaTZLVFZZVkFOMDlTd1wvSGltcytJIiwibWFjIjoiZWQ2ZjA4MmVjZmZlYjlmNjJmYmY2NGMyMDI0Njc0NWViYjVkOWE2NDg0N2RhODMxZjBjZDhiMmJhZTc2MDZhYiJ9; avi=eyJpdiI6Im1NeWFJRlVRWDR1endEcGRGUGJUbVE9PSIsInZhbHVlIjoickRpU3JuUytmcGl6cjF5OW0rNU9iZz09IiwibWFjIjoiY2VmY2NkNzZmM2NhNjY5YzlkOTcyNjE5OGEyMzU0NWYxOTdmMDRkMDY3OWNmMmZjOTMxYjc5MjI5N2Q5NGE5MiJ9; cmp=t=1559391030&j=0; _gid=GA1.4.779543841.1559391031; XSRF-TOKEN=eyJpdiI6IkhpS2hGcDRQaHlmWUJmaHdSS2Q2bHc9PSIsInZhbHVlIjoiOUVoNFk4OHI1UUZmUWRtYXhza0MyWjJSTlhlZ3RnT0VGeVJPN2JuczVRMGRFdWt2OUlsamVKeHRobFwvcHBGM0dhU3VyMXNGTHlsb2dVM2l0U1hpUGxBPT0iLCJtYWMiOiJkZWU4YzJhNjAxMTY3MzE4Y2ExNWIxYmE1ZjE1YWZlZTlhOTcyYjc4M2RlZGY4ZWNjZDYyMTA2NGYwZGViMzc2In0%3D; m_s=eyJpdiI6InpsZHZ2Tk1BZ0dxaHhETml1RjBnUXc9PSIsInZhbHVlIjoiSkNGeHUranRoXC85bDFiaDhySTJqNkJRcWdjWUxjeVRJSHVYZ1wvd2d4bWJZUTUrSHVDM0lUcW5KNHdETFZ4T1lieU81OUhzc1VoUXhZcWk0UDZSQXVFdz09IiwibWFjIjoiYmJkMDJkMDhlODIzMzcyMWY4M2NmYWNjNGVlOWRjMDIwZmVmNzAyMjE3Yzg3ZGY3ODBkZWEzZTI4MTI5ZWNmOSJ9; _gat=1; nexagesd=10',\n",
    "    'dnt': '1',\n",
    "    'mv-authorization': '21835b082e15b91a69b3851eec7b31b82ce82afb',\n",
    "    'referer': 'https://movies.yahoo.com.tw/',\n",
    "    'user-agent': 'Mozilla/5.0 (Windows NT 10.0; Win64; x64) AppleWebKit/537.36 (KHTML, like Gecko) Chrome/74.0.3729.169 Safari/537.36',\n",
    "    'x-requested-with': 'XMLHttpRequest',\n",
    "}\n",
    "    \n",
    "resp = requests.get(url, params=payload, headers=headers)\n",
    "#print(resp.json())  # 若有需要，列印出json原始碼\n",
    "\n",
    "# 這裡回傳的格式是JSON格式的資料，要解析JSON擷取資料\n",
    "for p in resp.json():\n",
    "    print('放映地區: {0}, 代號(area_id): {1}'.format(p['title'], p['area_id']))"
   ]
  },
  {
   "cell_type": "code",
   "execution_count": 6,
   "metadata": {},
   "outputs": [
    {
     "name": "stdout",
     "output_type": "stream",
     "text": [
      "[{'area_id': 2, 'title': '台中', 'priority': 125, 'ts_update': 1547507368}]\n"
     ]
    }
   ],
   "source": [
    "print(resp.json())  # 若有需要，列印出json原始碼"
   ]
  },
  {
   "cell_type": "markdown",
   "metadata": {},
   "source": [
    "### 指定你想要觀看的放映地區，查詢有上映電影的場次日期"
   ]
  },
  {
   "cell_type": "code",
   "execution_count": 7,
   "metadata": {},
   "outputs": [],
   "source": [
    "# 指定放映地區\n",
    "area_id = 2"
   ]
  },
  {
   "cell_type": "code",
   "execution_count": 8,
   "metadata": {},
   "outputs": [
    {
     "name": "stdout",
     "output_type": "stream",
     "text": [
      "二月 1\n",
      "二月 2\n",
      "二月 3\n",
      "二月 4\n",
      "二月 5\n"
     ]
    }
   ],
   "source": [
    "# 向網站發送請求\n",
    "url = 'https://movies.yahoo.com.tw/movietime_result.html'\n",
    "payload = {'movie_id':str(movie_id), 'area_id':str(area_id)}\n",
    "resp = requests.get(url, params=payload)\n",
    "resp.encoding = 'utf-8'\n",
    "\n",
    "soup = BeautifulSoup(resp.text, 'lxml')\n",
    "movie_date = soup.find_all(\"label\", attrs={'for':re.compile(\"date_[\\d]\")})\n",
    "\n",
    "# 列印播放日期\n",
    "for date in movie_date:\n",
    "    print(\"%s %s\" % (date.p.string, date.h3.string))"
   ]
  },
  {
   "cell_type": "markdown",
   "metadata": {},
   "source": [
    "### 最後指定觀看的日期，查詢並列印出放映的電影院、放映類型(數位、3D、IMAX 3D...)、放映時間等資訊。"
   ]
  },
  {
   "cell_type": "code",
   "execution_count": 9,
   "metadata": {},
   "outputs": [],
   "source": [
    "# 選定要觀看的日期\n",
    "date = \"2020-02-01\""
   ]
  },
  {
   "cell_type": "code",
   "execution_count": 10,
   "metadata": {},
   "outputs": [],
   "source": [
    "# 向網站發送請求，獲取上映的電影院及時間資訊\n",
    "url = \"https://movies.yahoo.com.tw/ajax/pc/get_schedule_by_movie\"\n",
    "payload = {'movie_id':str(movie_id),\n",
    "           'date':date,\n",
    "           'area_id':str(area_id),\n",
    "           'theater_id':'',\n",
    "           'datetime':'',\n",
    "           'movie_type_id':''}\n",
    "\n",
    "resp = requests.get(url, params=payload)\n",
    "#print(resp.json()['view'])  # 若有需要，列印出json原始碼\n",
    "\n",
    "soup = BeautifulSoup(resp.json()['view'], 'lxml')\n",
    "html = soup.find_all(\"ul\", attrs={'data-theater_name':re.compile(\".*\")})"
   ]
  },
  {
   "cell_type": "code",
   "execution_count": 11,
   "metadata": {
    "scrolled": true
   },
   "outputs": [
    {
     "name": "stdout",
     "output_type": "stream",
     "text": [
      "<div class=\"pc-movie-schedule-form\">\n",
      "    <div class=\"area_timebox\">\n",
      "   <div class=\"area_title\">台中</div>\n",
      "      <ul id=\"theater_id_10\" class=\"area_time _c jq_area_time\" data-theater_name=\"萬代福戲院\" data-theater_url=\"\" data-theater_schedules=\"https://movies.yahoo.com.tw/theater_result.html/id=10\" >\n",
      "       <li class=\"adds\">\n",
      "           <a href=\"https://movies.yahoo.com.tw/theater_result.html/id=10\">萬代福戲院</a>\n",
      "           <span>04-22210356</span>\n",
      "       </li>\n",
      "                         <li class=\"taps\">\n",
      "                <span class=\"tapR\">數位</span>                           </li>\n",
      "           <li class=\"time _c\">\n",
      "               <div class=\"input_picker jq_input_picker\">\n",
      "                                                   <input type=\"radio\" name=\"schedule_list\" id=\"72871880\" class=\"gabtn\"\n",
      "                        value=\"2020-02-01 22:20:00\" data-movie_type=\"數位\"\n",
      "                        data-movie_title=\"無間行動\"\n",
      "                        data-movie_date=\"02.01\"\n",
      "                        data-movie_time=\"22:20\"\n",
      "                        data-ga=\"['電影頁_時刻表', '電影頁_時刻表_場次', '無間行動']\" data-news=\"news\"\n",
      "                        />\n",
      "                    <label for=\"72871880\" class=\"select\">22:20</label>\n",
      "                                               </div>\n",
      "           </li>\n",
      "          </ul>\n",
      "      <ul id=\"theater_id_11\" class=\"area_time _c jq_area_time\" data-theater_name=\"全球影城\" data-theater_url=\"http://www.ucc-cinema.com.tw/\" data-theater_schedules=\"https://movies.yahoo.com.tw/theater_result.html/id=11\" >\n",
      "       <li class=\"adds\">\n",
      "           <a href=\"https://movies.yahoo.com.tw/theater_result.html/id=11\">全球影城</a>\n",
      "           <span>04-22242588</span>\n",
      "       </li>\n",
      "                         <li class=\"taps\">\n",
      "                <span class=\"tapR\">數位</span>                           </li>\n",
      "           <li class=\"time _c\">\n",
      "               <div class=\"input_picker jq_input_picker\">\n",
      "                                                   <input type=\"radio\" name=\"schedule_list\" id=\"72871915\" class=\"gabtn\"\n",
      "                        value=\"2020-02-01 11:45:00\" data-movie_type=\"數位\"\n",
      "                        data-movie_title=\"無間行動\"\n",
      "                        data-movie_date=\"02.01\"\n",
      "                        data-movie_time=\"11:45\"\n",
      "                        data-ga=\"['電影頁_時刻表', '電影頁_時刻表_場次', '無間行動']\" data-news=\"news\"\n",
      "                        />\n",
      "                    <label for=\"72871915\" class=\"\">11:45</label>\n",
      "                                                                    <input type=\"radio\" name=\"schedule_list\" id=\"72871916\" class=\"gabtn\"\n",
      "                        value=\"2020-02-01 15:25:00\" data-movie_type=\"數位\"\n",
      "                        data-movie_title=\"無間行動\"\n",
      "                        data-movie_date=\"02.01\"\n",
      "                        data-movie_time=\"15:25\"\n",
      "                        data-ga=\"['電影頁_時刻表', '電影頁_時刻表_場次', '無間行動']\" data-news=\"news\"\n",
      "                        />\n",
      "                    <label for=\"72871916\" class=\"\">15:25</label>\n",
      "                                                                    <input type=\"radio\" name=\"schedule_list\" id=\"72871917\" class=\"gabtn\"\n",
      "                        value=\"2020-02-01 19:05:00\" data-movie_type=\"數位\"\n",
      "                        data-movie_title=\"無間行動\"\n",
      "                        data-movie_date=\"02.01\"\n",
      "                        data-movie_time=\"19:05\"\n",
      "                        data-ga=\"['電影頁_時刻表', '電影頁_時刻表_場次', '無間行動']\" data-news=\"news\"\n",
      "                        />\n",
      "                    <label for=\"72871917\" class=\"\">19:05</label>\n",
      "                                                                    <input type=\"radio\" name=\"schedule_list\" id=\"72871918\" class=\"gabtn\"\n",
      "                        value=\"2020-02-01 22:45:00\" data-movie_type=\"數位\"\n",
      "                        data-movie_title=\"無間行動\"\n",
      "                        data-movie_date=\"02.01\"\n",
      "                        data-movie_time=\"22:45\"\n",
      "                        data-ga=\"['電影頁_時刻表', '電影頁_時刻表_場次', '無間行動']\" data-news=\"news\"\n",
      "                        />\n",
      "                    <label for=\"72871918\" class=\"select\">22:45</label>\n",
      "                                               </div>\n",
      "           </li>\n",
      "          </ul>\n",
      "   </div>\n",
      "\n",
      "    <div class=\"booking_modal jq_booking_modal\">\n",
      "    <div class=\"booking_modal_backdrop\"></div>\n",
      "    <!-- 時報訂票 ＆ 有官網訂票 新增 class => no_seats -->\n",
      "    <div class=\"booking_modal_content jq_booking_modal_content\">\n",
      "        <form method=\"get\" action=\"https://movies.yahoo.com.tw/ticket/ezding_ticket\" target=\"_blank\" id=\"form_schedule\">\n",
      "                <div class=\"ezding_ticket_value\">\n",
      "            <input type=\"hidden\" name=\"movie_id\" value=\"\">\n",
      "            <input type=\"hidden\" name=\"cinema_id\" value=\"\">\n",
      "            <input type=\"hidden\" name=\"session_id\" value=\"\">\n",
      "            <input type=\"hidden\" name=\"date\" value=\"\">\n",
      "            <input type=\"hidden\" name=\"time\" value=\"\">\n",
      "            <input type=\"hidden\" name=\"campaign_code\" value=\"yahoopc\">\n",
      "        </div>\n",
      "        <ul class=\"top_infos\">\n",
      "            <li>\n",
      "                <p>片名</p>\n",
      "                <h3 id=\"top_infos_movie\"></h3>\n",
      "            </li>\n",
      "            <li>\n",
      "                <p>影城</p>\n",
      "                <h3 id=\"top_infos_theater\"></h3>\n",
      "            </li>\n",
      "            <li>\n",
      "                <p>日期</p>\n",
      "                <h3 id=\"top_infos_date\"></h3>\n",
      "            </li>\n",
      "            <li>\n",
      "                <p>版本</p>\n",
      "                <h3 id=\"top_infos_movie_type\"></h3>\n",
      "            </li>\n",
      "            <li>\n",
      "                <p>時間</p>\n",
      "                <h3 id=\"top_infos_time\"></h3>\n",
      "            </li>\n",
      "        </ul>\n",
      "        \n",
      "        <div class=\"booking_seats\">\n",
      "            <a href=\"#\" class=\"theater_schedules gabtn\" data-ga=\"['電影頁_時刻表', '電影頁_時刻表_一般戲院_全部電影場次', '']\">全部電影場次</a>\n",
      "            <a href=\"#\" class=\"theater_url gabtn\" data-ga=\"['電影頁_時刻表', '電影頁_時刻表_一般戲院_官網訂票', '']\" target=\"_blank\">官網訂票</a>\n",
      "            <p id=\"no_theater_url\" class=\"no_theater_url\">無提供官網訂票</p>\n",
      "\n",
      "            <p id=\"booking_number\" class=\"booking_number\">人數</p>\n",
      "            <div class=\"booking_seat_group jq_booking_seat_group\">\n",
      "                                    <input type=\"radio\" name=\"tickets\" id=\"seat_1\" value=\"1\" />\n",
      "                    <label for=\"seat_1\">1</label>\n",
      "                                    <input type=\"radio\" name=\"tickets\" id=\"seat_2\" value=\"2\"  checked />\n",
      "                    <label for=\"seat_2\">2</label>\n",
      "                                    <input type=\"radio\" name=\"tickets\" id=\"seat_3\" value=\"3\" />\n",
      "                    <label for=\"seat_3\">3</label>\n",
      "                                    <input type=\"radio\" name=\"tickets\" id=\"seat_4\" value=\"4\" />\n",
      "                    <label for=\"seat_4\">4</label>\n",
      "                                    <input type=\"radio\" name=\"tickets\" id=\"seat_5\" value=\"5\" />\n",
      "                    <label for=\"seat_5\">5</label>\n",
      "                                    <input type=\"radio\" name=\"tickets\" id=\"seat_6\" value=\"6\" />\n",
      "                    <label for=\"seat_6\">6</label>\n",
      "                            </div>\n",
      "            <button type=\"submit\" class=\"action_btn action_booking_btn jq_booking_btn gabtn\" data-ga=\"['電影頁_時刻表', '電影頁_時刻表_一般戲院_選位', '']\">選位</button>\n",
      "            <a href=\"#\" class=\"action_btn action_link jq_booking_link gabtn\" data-ga=\"['電影頁_時刻表', '電影頁_時刻表_時報戲院_官網選位', '']\" target=\"_blank\">官網訂票</a>\n",
      "            <button type=\"button\" class=\"action_btn close jq_close_booking_btn\">關閉</button>\n",
      "        </div>\n",
      "        </form>\n",
      "\n",
      "        <!-- 無官網訂票區塊 -->\n",
      "        <div class=\"no_theater_section\">\n",
      "            <p>無提供官網訂票</p>\n",
      "            <button type=\"button\" class=\"action_btn close jq_close_booking_btn\">關閉</button>\n",
      "        </div>\n",
      "    </div>\n",
      "</div></div>\n"
     ]
    }
   ],
   "source": [
    "print(resp.json()['view'])  # 若有需要，列印出json原始碼"
   ]
  },
  {
   "cell_type": "markdown",
   "metadata": {},
   "source": [
    "### 試著從上一步驟回傳的電影院資料中，擷取電影院名稱、影片放映類型以及時間表"
   ]
  },
  {
   "cell_type": "code",
   "execution_count": 12,
   "metadata": {},
   "outputs": [
    {
     "name": "stdout",
     "output_type": "stream",
     "text": [
      "len: 2 type: <class 'bs4.element.ResultSet'>\n"
     ]
    }
   ],
   "source": [
    "print(\"len:\", len(html), \"type:\", type(html))"
   ]
  },
  {
   "cell_type": "code",
   "execution_count": 13,
   "metadata": {
    "scrolled": true
   },
   "outputs": [
    {
     "name": "stdout",
     "output_type": "stream",
     "text": [
      "<ul class=\"area_time _c jq_area_time\" data-theater_name=\"萬代福戲院\" data-theater_schedules=\"https://movies.yahoo.com.tw/theater_result.html/id=10\" data-theater_url=\"\" id=\"theater_id_10\">\n",
      "<li class=\"adds\">\n",
      "<a href=\"https://movies.yahoo.com.tw/theater_result.html/id=10\">萬代福戲院</a>\n",
      "<span>04-22210356</span>\n",
      "</li>\n",
      "<li class=\"taps\">\n",
      "<span class=\"tapR\">數位</span> </li>\n",
      "<li class=\"time _c\">\n",
      "<div class=\"input_picker jq_input_picker\">\n",
      "<input class=\"gabtn\" data-ga=\"['電影頁_時刻表', '電影頁_時刻表_場次', '無間行動']\" data-movie_date=\"02.01\" data-movie_time=\"22:20\" data-movie_title=\"無間行動\" data-movie_type=\"數位\" data-news=\"news\" id=\"72871880\" name=\"schedule_list\" type=\"radio\" value=\"2020-02-01 22:20:00\"/>\n",
      "<label class=\"select\" for=\"72871880\">22:20</label>\n",
      "</div>\n",
      "</li>\n",
      "</ul>\n"
     ]
    }
   ],
   "source": [
    "print(html[0])"
   ]
  },
  {
   "cell_type": "markdown",
   "metadata": {},
   "source": [
    "### 電影院名稱"
   ]
  },
  {
   "cell_type": "code",
   "execution_count": 14,
   "metadata": {},
   "outputs": [
    {
     "name": "stdout",
     "output_type": "stream",
     "text": [
      "萬代福戲院\n",
      "全球影城\n"
     ]
    }
   ],
   "source": [
    "for h in html:\n",
    "    print(h['data-theater_name'])"
   ]
  },
  {
   "cell_type": "markdown",
   "metadata": {},
   "source": [
    "### 影片放映類型以及時間表"
   ]
  },
  {
   "cell_type": "code",
   "execution_count": 15,
   "metadata": {},
   "outputs": [
    {
     "name": "stdout",
     "output_type": "stream",
     "text": [
      "[<li class=\"taps\">\n",
      "<span class=\"tapR\">數位</span> </li>]\n",
      "[<li class=\"taps\">\n",
      "<span class=\"tapR\">數位</span> </li>]\n"
     ]
    }
   ],
   "source": [
    "for h in html:\n",
    "    print(h.find_all('li', attrs={'class':\"taps\"}))"
   ]
  },
  {
   "cell_type": "code",
   "execution_count": 16,
   "metadata": {},
   "outputs": [
    {
     "name": "stdout",
     "output_type": "stream",
     "text": [
      "數位\n",
      "數位\n"
     ]
    }
   ],
   "source": [
    "for h in html:\n",
    "    for l in (h.find_all('li', attrs={'class':\"taps\"})):\n",
    "        print(l.find('span').text)"
   ]
  },
  {
   "cell_type": "markdown",
   "metadata": {},
   "source": [
    "### 時間表"
   ]
  },
  {
   "cell_type": "code",
   "execution_count": 17,
   "metadata": {},
   "outputs": [
    {
     "name": "stdout",
     "output_type": "stream",
     "text": [
      "===\n",
      "<input class=\"gabtn\" data-ga=\"['電影頁_時刻表', '電影頁_時刻表_場次', '無間行動']\" data-movie_date=\"02.01\" data-movie_time=\"22:20\" data-movie_title=\"無間行動\" data-movie_type=\"數位\" data-news=\"news\" id=\"72871880\" name=\"schedule_list\" type=\"radio\" value=\"2020-02-01 22:20:00\"/>\n",
      "---\n",
      "2020-02-01 22:20:00\n",
      "===\n",
      "<input class=\"gabtn\" data-ga=\"['電影頁_時刻表', '電影頁_時刻表_場次', '無間行動']\" data-movie_date=\"02.01\" data-movie_time=\"11:45\" data-movie_title=\"無間行動\" data-movie_type=\"數位\" data-news=\"news\" id=\"72871915\" name=\"schedule_list\" type=\"radio\" value=\"2020-02-01 11:45:00\"/>\n",
      "---\n",
      "2020-02-01 11:45:00\n"
     ]
    }
   ],
   "source": [
    "for h in html:\n",
    "    print('===')\n",
    "    print(h.find('input'))\n",
    "    print('---')\n",
    "    print(h.find('input')['value'])"
   ]
  },
  {
   "cell_type": "markdown",
   "metadata": {},
   "source": [
    "### 電影院名稱、影片放映類型以及時間表"
   ]
  },
  {
   "cell_type": "code",
   "execution_count": 18,
   "metadata": {},
   "outputs": [
    {
     "name": "stdout",
     "output_type": "stream",
     "text": [
      "Time: 2020-02-01 22:20:00 Type: 數位 Theater: 萬代福戲院\n",
      "Time: 2020-02-01 11:45:00 Type: 數位 Theater: 全球影城\n"
     ]
    }
   ],
   "source": [
    "for h in html:\n",
    "    theater = h['data-theater_name']\n",
    "    time = h.find('input')['value']\n",
    "    t = h.find('li', attrs={'class':\"taps\"})\n",
    "    print(\"Time:\", time, \"Type:\", t.find('span').text, \"Theater:\", theater)"
   ]
  },
  {
   "cell_type": "code",
   "execution_count": null,
   "metadata": {},
   "outputs": [],
   "source": []
  }
 ],
 "metadata": {
  "kernelspec": {
   "display_name": "Python 3",
   "language": "python",
   "name": "python3"
  },
  "language_info": {
   "codemirror_mode": {
    "name": "ipython",
    "version": 3
   },
   "file_extension": ".py",
   "mimetype": "text/x-python",
   "name": "python",
   "nbconvert_exporter": "python",
   "pygments_lexer": "ipython3",
   "version": "3.7.3"
  }
 },
 "nbformat": 4,
 "nbformat_minor": 2
}
