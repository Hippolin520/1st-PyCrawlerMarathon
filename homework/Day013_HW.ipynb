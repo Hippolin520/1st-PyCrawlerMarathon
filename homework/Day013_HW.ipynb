{
 "cells": [
  {
   "cell_type": "markdown",
   "metadata": {},
   "source": [
    "# PTT 網路爬蟲實作練習\n",
    "\n",
    "\n",
    "* 能夠利用 Request + BeatifulSour 撰寫爬蟲，並存放到合適的資料結構\n"
   ]
  },
  {
   "cell_type": "markdown",
   "metadata": {},
   "source": [
    "## 作業目標\n",
    "\n",
    "根據範例 ，完成以下問題：\n",
    "\n",
    "* ① 印出最新文章的「作者」「標題」「時間」\n",
    "* ② 印出第一頁所有文章的「作者」「標題」「時間」\n"
   ]
  },
  {
   "cell_type": "code",
   "execution_count": 1,
   "metadata": {},
   "outputs": [],
   "source": [
    "import requests\n",
    "from bs4 import BeautifulSoup\n",
    "\n",
    "url = 'https://www.ptt.cc/bbs/NBA/index.html'\n",
    "r = requests.get(url)\n",
    "\n",
    "soup = BeautifulSoup(r.text, \"html5lib\")"
   ]
  },
  {
   "cell_type": "markdown",
   "metadata": {},
   "source": [
    "### ① 印出最新文章的「作者」「標題」「時間」"
   ]
  },
  {
   "cell_type": "code",
   "execution_count": 2,
   "metadata": {},
   "outputs": [
    {
     "data": {
      "text/plain": [
       "<div class=\"r-ent\">\n",
       "\t\t\t<div class=\"nrec\"><span class=\"hl f0\">X2</span></div>\n",
       "\t\t\t<div class=\"title\">\n",
       "\t\t\t\n",
       "\t\t\t\t<a href=\"/bbs/NBA/M.1580470940.A.34F.html\">[討論] 好久不見Iguodala</a>\n",
       "\t\t\t\n",
       "\t\t\t</div>\n",
       "\t\t\t<div class=\"meta\">\n",
       "\t\t\t\t<div class=\"author\">liyu0329</div>\n",
       "\t\t\t\t<div class=\"article-menu\">\n",
       "\t\t\t\t\t\n",
       "\t\t\t\t\t<div class=\"trigger\">⋯</div>\n",
       "\t\t\t\t\t<div class=\"dropdown\">\n",
       "\t\t\t\t\t\t<div class=\"item\"><a href=\"/bbs/NBA/search?q=thread%3A%5B%E8%A8%8E%E8%AB%96%5D+%E5%A5%BD%E4%B9%85%E4%B8%8D%E8%A6%8BIguodala\">搜尋同標題文章</a></div>\n",
       "\t\t\t\t\t\t\n",
       "\t\t\t\t\t\t<div class=\"item\"><a href=\"/bbs/NBA/search?q=author%3Aliyu0329\">搜尋看板內 liyu0329 的文章</a></div>\n",
       "\t\t\t\t\t\t\n",
       "\t\t\t\t\t</div>\n",
       "\t\t\t\t\t\n",
       "\t\t\t\t</div>\n",
       "\t\t\t\t<div class=\"date\"> 1/31</div>\n",
       "\t\t\t\t<div class=\"mark\"></div>\n",
       "\t\t\t</div>\n",
       "\t\t</div>"
      ]
     },
     "execution_count": 2,
     "metadata": {},
     "output_type": "execute_result"
    }
   ],
   "source": [
    "soup.find(class_=\"r-ent\")"
   ]
  },
  {
   "cell_type": "code",
   "execution_count": 3,
   "metadata": {},
   "outputs": [
    {
     "name": "stdout",
     "output_type": "stream",
     "text": [
      "title: [討論] 好久不見Iguodala\n",
      "author: liyu0329\n",
      "date:  1/31\n"
     ]
    }
   ],
   "source": [
    "print(\"title:\", soup.find(class_=\"r-ent\").find(class_=\"title\").text.replace('\\t', '').replace('\\n', ''))\n",
    "print(\"author:\", soup.find(class_=\"r-ent\").find(class_=\"author\").text)\n",
    "print(\"date:\", soup.find(class_=\"r-ent\").find(class_=\"date\").text)"
   ]
  },
  {
   "cell_type": "markdown",
   "metadata": {},
   "source": [
    "### ② 印出第一頁所有文章的「作者」「標題」「時間」"
   ]
  },
  {
   "cell_type": "code",
   "execution_count": 4,
   "metadata": {},
   "outputs": [
    {
     "name": "stdout",
     "output_type": "stream",
     "text": [
      "1  1/31    liyu0329 \t [討論] 好久不見Iguodala\n",
      "2  1/31    TheoEpstein \t Re: [外絮] 聯盟準備公布2020-21薪資及奢侈稅預測\n",
      "3  1/31    a78998042a \t [情報] NBA Standings (Jan. 31, 2020)\n",
      "4  1/31    hvariables \t [專欄] 傳奇巨星布萊恩驟逝 NBA名將憶往悲痛難耐\n",
      "5  1/31    Rambo \t [情報] ★今日排名(2020.01.31)★\n",
      "6  1/31    fukawa947 \t [花邊] 曾被Kobe嗆不配打NBA　前湖人球員悔無法\n",
      "7  5/24    Vedan \t [公告] 板規v6.8\n",
      "8  6/24    Vedan \t [公告] 樂透取消及未來不再開啟樂透\n",
      "9 10/25    qazwsx879345 \t [公告] 版主上任相關事項 \n",
      "10  1/03    Acetoxy \t [情報] SEASON Schedule 賽程 January 19–20\n",
      "11  1/27    Vedan \t [公告] 難過區\n"
     ]
    }
   ],
   "source": [
    "i = 0\n",
    "for d in soup.find_all(class_=\"r-ent\"):\n",
    "    i += 1\n",
    "    ti = d.find(class_=\"title\").text.replace('\\t', '').replace('\\n', '')\n",
    "    au = d.find(class_=\"author\").text\n",
    "    da = d.find(class_=\"date\").text\n",
    "    print(i, da, \"  \", au, \"\\t\", ti)"
   ]
  },
  {
   "cell_type": "markdown",
   "metadata": {},
   "source": [
    "### ③ 試著爬爬看其他版的文章"
   ]
  },
  {
   "cell_type": "code",
   "execution_count": 5,
   "metadata": {},
   "outputs": [],
   "source": [
    "def board_list(board):\n",
    "    url = 'https://www.ptt.cc/bbs/{}/index.html'.format(board)\n",
    "    r = requests.get(url)\n",
    "    soup = BeautifulSoup(r.text, \"html5lib\")\n",
    "    no = 0\n",
    "    for d in soup.find_all(class_=\"r-ent\"):\n",
    "        no += 1\n",
    "        ti = d.find(class_=\"title\").text.replace('\\t', '').replace('\\n', '')\n",
    "        au = d.find(class_=\"author\").text\n",
    "        da = d.find(class_=\"date\").text\n",
    "        print(no, \"\\t\", da, \"\\t\", au, \"\\t\", ti)"
   ]
  },
  {
   "cell_type": "code",
   "execution_count": 6,
   "metadata": {},
   "outputs": [
    {
     "name": "stdout",
     "output_type": "stream",
     "text": [
      "1 \t  1/31 \t capssan \t [新聞] 等不及！經濟部斥資2億買口罩機器設備　\n",
      "2 \t  1/25 \t IanLi \t [公告] 精華區導覽Q&A\n",
      "3 \t 11/03 \t eyespot \t [公告] Stock 板規V2.6             (2019/06/20)\n",
      "4 \t  1/25 \t noldorelf \t [公告] 關於武漢肺炎新聞規範\n",
      "5 \t  1/31 \t vendan5566 \t [閒聊] 2020/01/31 盤後閒聊\n"
     ]
    }
   ],
   "source": [
    "board_list(\"Stock\")"
   ]
  },
  {
   "cell_type": "code",
   "execution_count": 7,
   "metadata": {},
   "outputs": [
    {
     "name": "stdout",
     "output_type": "stream",
     "text": [
      "1 \t  1/31 \t justin81828 \t [新聞] 中國官方證實：治癒後會有再次感染風險\n",
      "2 \t  1/31 \t sk2sk2sss \t [討論] 工廠出貨的口罩也被收回嗎？\n",
      "3 \t  1/31 \t pouttuiqoy \t [問題] 利用紫外線光消毒口罩\n",
      "4 \t  1/31 \t cake10414 \t Fw: [新聞] 政府拍板出1億建口罩產線 產能提高2.5倍\n",
      "5 \t  1/31 \t - \t (本文已被刪除) [sariel0322]\n",
      "6 \t  1/31 \t Axwell \t [情報] 1/31台灣新增一例武漢肺炎病例\n",
      "7 \t  1/31 \t sandemo \t [新聞] 確診第10例！晚間急開記者會　陳時中：台\n",
      "8 \t  1/31 \t stockeye \t [問題] 第十例到底傳播多少人?\n",
      "9 \t  1/31 \t BestGG \t [問題] 同事在俄羅斯發燒\n",
      "10 \t  1/31 \t switch \t [新聞] 港大科學家公布新病毒於細胞中複製的影像\n",
      "11 \t  1/31 \t voncroy \t [問題] 防水口罩可以防病毒嗎？\n",
      "12 \t  1/31 \t notepad67 \t [情報] 職安署回應外界誤解雇主需使所有勞工配\n",
      "13 \t  1/31 \t nomorepipe \t Fw: [討論] 武漢肺炎 第9、10例整理\n",
      "14 \t  1/31 \t sandysam \t [問題] 武漢肺炎是不是還好?\n",
      "15 \t  1/31 \t chuo11 \t Fw: [新聞] 我國專家會議強調：健康的人不需一律戴口罩\n",
      "16 \t  1/31 \t mm770912 \t [問題] 這種口罩不知道夠不夠用\n",
      "17 \t  1/31 \t yjjia \t Re: [問題] 武漢肺炎是不是還好?\n",
      "18 \t  1/31 \t sm999222 \t [新聞]武漢肺炎!台灣成功分離病毒!!加速研發疫苗\n",
      "19 \t  1/31 \t ketter \t Re: [問題] 武漢肺炎是不是還好?\n",
      "20 \t  1/26 \t FlyFreedom \t [公告] 本板板規 v1.4 (本篇可做為置底閒聊)\n",
      "21 \t  1/26 \t coffee777 \t [情報] 武漢肺炎台灣及全球病例即時戰情儀表版\n",
      "22 \t  1/26 \t tw00537414 \t [情報] 2019-nCoV 整理筆記分享\n",
      "23 \t  1/26 \t ismail \t [情報] 1/31 22:00境外22國151台9(本土2)1/31 22\n",
      "24 \t  1/29 \t SHENG3106 \t [情報] 關於口罩的選擇\n"
     ]
    }
   ],
   "source": [
    "board_list(\"nCoV2019\")"
   ]
  },
  {
   "cell_type": "code",
   "execution_count": 8,
   "metadata": {},
   "outputs": [
    {
     "name": "stdout",
     "output_type": "stream",
     "text": [
      "1 \t  1/31 \t dagoma \t Re: [請益] 求推薦昆汀·塔倫提諾的電影\n",
      "2 \t  1/31 \t sean8398 \t [好雷] 《熱帶雨》：少之時血氣未定，戒之在色\n",
      "3 \t  1/31 \t tuhsiaofu \t [好雷] 熱帶雨 Wet Season\n",
      "4 \t  1/31 \t mysmalllamb \t [好雷] 悲慘世界 Les Misérables \n",
      "5 \t  1/31 \t Zionward \t [請益] 台灣拍不出古惑仔？\n",
      "6 \t  1/31 \t sean12345678 \t Re: [請益] 復四裡的黑寡婦和浩克\n",
      "7 \t  1/31 \t arsl400 \t [討論] 關於1917的這一幕(有雷)\n",
      "8 \t  1/31 \t solemnity \t [好雷] 她們\n",
      "9 \t  1/31 \t qpr322 \t [情報] 2020 美國選角協會 奧提歐斯獎 得獎名單\n",
      "10 \t  1/31 \t lpbrother \t [討論] 變身特務的中文配音\n",
      "11 \t  1/31 \t babylon2 \t Re: [新聞] 小丑缺席《猛禽小隊》 瑪格蘿比解釋原因\n",
      "12 \t  1/31 \t dixieland999 \t [討論] 方基墨喉癌手術後講話有困難\n",
      "13 \t  1/31 \t allshine \t [好雷]我們的七日戰爭 \n",
      "14 \t  1/31 \t fawangching \t [討論] 門徒到底要看幾次才會膩\n",
      "15 \t  1/31 \t mysmalllamb \t [好雷] 她們 Little Women\n",
      "16 \t  1/31 \t herbert0716 \t [討論] 星戰789的赫斯\n",
      "17 \t  1/31 \t ckny \t [Live] CINEMAX 22:00 義務警員\n",
      "18 \t  6/04 \t ckshchen \t [公告] 板規 2019/12/30\n",
      "19 \t  8/15 \t hhwang \t [公告] 板規新增每日發文上限規定\n",
      "20 \t 12/17 \t hhwang \t [公告] 獎季發文限制放寬\n",
      "21 \t 12/23 \t kai3368 \t [公告] 請注意發文格式 標題不要爆雷\n",
      "22 \t  1/11 \t ckshchen \t [公告] 關於跑步哥\n"
     ]
    }
   ],
   "source": [
    "board_list(\"movie\")"
   ]
  },
  {
   "cell_type": "code",
   "execution_count": null,
   "metadata": {},
   "outputs": [],
   "source": []
  }
 ],
 "metadata": {
  "kernelspec": {
   "display_name": "Python 3",
   "language": "python",
   "name": "python3"
  },
  "language_info": {
   "codemirror_mode": {
    "name": "ipython",
    "version": 3
   },
   "file_extension": ".py",
   "mimetype": "text/x-python",
   "name": "python",
   "nbconvert_exporter": "python",
   "pygments_lexer": "ipython3",
   "version": "3.7.3"
  }
 },
 "nbformat": 4,
 "nbformat_minor": 2
}
